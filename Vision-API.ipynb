{
  "cells": [
    {
      "cell_type": "code",
      "execution_count": 16,
      "metadata": {},
      "outputs": [],
      "source": [
        "# Import required libraries\n",
        "import os\n",
        "from google.cloud import vision\n",
        "import pandas as pd\n",
        "import io"
      ]
    },
    {
      "cell_type": "code",
      "execution_count": 18,
      "metadata": {
        "colab": {
          "base_uri": "https://localhost:8080/"
        },
        "id": "OUmLdnxbtGGT",
        "outputId": "45ceafc5-382c-4c2c-8a9d-e9c3bc94bfea"
      },
      "outputs": [
        {
          "name": "stdout",
          "output_type": "stream",
          "text": [
            "Service Account Key: elevated-creek-354614-0b482a6c27bb.json\n"
          ]
        }
      ],
      "source": [
        "# Import Credential File\n",
        "os.environ[\"GOOGLE_APPLICATION_CREDENTIALS\"] = \"elevated-creek-354614-0b482a6c27bb.json\"\n",
        "print(\"Service Account Key: {}\".format(os.environ[\"GOOGLE_APPLICATION_CREDENTIALS\"]))"
      ]
    },
    {
      "cell_type": "code",
      "execution_count": 19,
      "metadata": {},
      "outputs": [
        {
          "name": "stdout",
          "output_type": "stream",
          "text": [
            "Files and directories in ' Images/ ' :\n",
            "['.DS_Store', 'wallpaper.jpg', 'photo-1462146449396-2d7d4ba877d7.jpeg', 'IMG_0004.JPG', 'photo-1428535172630-fb1c050ac3e0.jpeg', '5B89AFD1-830A-48C5-B40F-E51CBF20382C.JPG', 'photo-1463620695885-8a91d87c53d0.jpeg', 'photo-1431887773042-803ed52bed26.jpeg', '1111.jpg', 'domenico-loia-298642.jpg', '277H.jpg']\n"
          ]
        }
      ],
      "source": [
        "# Check if the images are located in the right directory\n",
        "# and if there are any hidden cache files such as \".DS_Store\"\n",
        "# that are unnecessary and will affect file opening and reading\n",
        "# \n",
        "# Make sure Images folder and source code are in the same directory\n",
        "path = 'Images/'\n",
        "dir_list = os.listdir(path)\n",
        "print(\"Files and directories in '\", path, \"' :\") \n",
        "  \n",
        "# print the list\n",
        "print(dir_list)"
      ]
    },
    {
      "cell_type": "code",
      "execution_count": 25,
      "metadata": {
        "colab": {
          "base_uri": "https://localhost:8080/",
          "height": 240
        },
        "id": "zF8nM0jGBneb",
        "outputId": "407e77e3-ec2f-438a-a676-95113730296f"
      },
      "outputs": [],
      "source": [
        "# Create a client\n",
        "client = vision.ImageAnnotatorClient()\n",
        "src_path = 'Images/'\n",
        "\n",
        "# Create dataframe to store results\n",
        "result = {\n",
        "    \"Image\": [],\n",
        "    \"Description\": [],\n",
        "    \"Score\": []\n",
        "}\n",
        "\n",
        "# Prepare lists needed for dataframe\n",
        "scores = []\n",
        "descriptions = []\n",
        "images = []\n",
        "\n",
        "# Create dataframe from prepared data\n",
        "df = pd.DataFrame(result)\n",
        "\n",
        "for file in os.listdir(src_path):\n",
        "    # Ignore hidden files such as \".DS_Store\"\n",
        "    if not file.startswith('.'):\n",
        "        path = src_path + file\n",
        "        with io.open(path, 'rb') as image_file:\n",
        "            content = image_file.read()\n",
        "        \n",
        "        image = vision.Image(content=content)\n",
        "        \n",
        "        response = client.label_detection(image=image)\n",
        "        labels = response.label_annotations\n",
        "        \n",
        "        df = pd.DataFrame()\n",
        "        for label in labels:\n",
        "            images.append(file)\n",
        "            descriptions.append(label.description)\n",
        "            scores.append(label.score)\n",
        "\n",
        "# Copy the data to result dataframe\n",
        "df['Image'] = images\n",
        "df['Description'] = descriptions\n",
        "df['Score'] = scores\n",
        "\n",
        "df.to_excel('results.xlsx', index=False)"
      ]
    },
    {
      "cell_type": "code",
      "execution_count": 26,
      "metadata": {},
      "outputs": [
        {
          "data": {
            "text/html": [
              "<div>\n",
              "<style scoped>\n",
              "    .dataframe tbody tr th:only-of-type {\n",
              "        vertical-align: middle;\n",
              "    }\n",
              "\n",
              "    .dataframe tbody tr th {\n",
              "        vertical-align: top;\n",
              "    }\n",
              "\n",
              "    .dataframe thead th {\n",
              "        text-align: right;\n",
              "    }\n",
              "</style>\n",
              "<table border=\"1\" class=\"dataframe\">\n",
              "  <thead>\n",
              "    <tr style=\"text-align: right;\">\n",
              "      <th></th>\n",
              "      <th>Image</th>\n",
              "      <th>Description</th>\n",
              "      <th>Score</th>\n",
              "    </tr>\n",
              "  </thead>\n",
              "  <tbody>\n",
              "    <tr>\n",
              "      <th>0</th>\n",
              "      <td>wallpaper.jpg</td>\n",
              "      <td>Sky</td>\n",
              "      <td>0.971081</td>\n",
              "    </tr>\n",
              "    <tr>\n",
              "      <th>1</th>\n",
              "      <td>wallpaper.jpg</td>\n",
              "      <td>Cloud</td>\n",
              "      <td>0.964316</td>\n",
              "    </tr>\n",
              "    <tr>\n",
              "      <th>2</th>\n",
              "      <td>wallpaper.jpg</td>\n",
              "      <td>Mountain</td>\n",
              "      <td>0.962145</td>\n",
              "    </tr>\n",
              "    <tr>\n",
              "      <th>3</th>\n",
              "      <td>wallpaper.jpg</td>\n",
              "      <td>Snow</td>\n",
              "      <td>0.961790</td>\n",
              "    </tr>\n",
              "    <tr>\n",
              "      <th>4</th>\n",
              "      <td>wallpaper.jpg</td>\n",
              "      <td>Natural environment</td>\n",
              "      <td>0.889400</td>\n",
              "    </tr>\n",
              "  </tbody>\n",
              "</table>\n",
              "</div>"
            ],
            "text/plain": [
              "           Image          Description     Score\n",
              "0  wallpaper.jpg                  Sky  0.971081\n",
              "1  wallpaper.jpg                Cloud  0.964316\n",
              "2  wallpaper.jpg             Mountain  0.962145\n",
              "3  wallpaper.jpg                 Snow  0.961790\n",
              "4  wallpaper.jpg  Natural environment  0.889400"
            ]
          },
          "execution_count": 26,
          "metadata": {},
          "output_type": "execute_result"
        }
      ],
      "source": [
        "df.head()"
      ]
    }
  ],
  "metadata": {
    "colab": {
      "name": "test.ipynb",
      "provenance": []
    },
    "kernelspec": {
      "display_name": "Python 3.9.12 ('base')",
      "language": "python",
      "name": "python3"
    },
    "language_info": {
      "codemirror_mode": {
        "name": "ipython",
        "version": 3
      },
      "file_extension": ".py",
      "mimetype": "text/x-python",
      "name": "python",
      "nbconvert_exporter": "python",
      "pygments_lexer": "ipython3",
      "version": "3.9.12"
    },
    "vscode": {
      "interpreter": {
        "hash": "ca7698b868f383d0377a9d6c45947c3efa10f72d9402195e7d04c23b32a0f352"
      }
    }
  },
  "nbformat": 4,
  "nbformat_minor": 0
}
